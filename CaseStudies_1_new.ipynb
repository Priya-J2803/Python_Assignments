{
 "cells": [
  {
   "cell_type": "code",
   "execution_count": 52,
   "metadata": {},
   "outputs": [
    {
     "name": "stdout",
     "output_type": "stream",
     "text": [
      "Please fill your timesheet in hours for this month\n",
      "Number of hours for Week1: 30\n",
      "Number of hours for Week2: 30\n",
      "Number of hours for Week3: 30\n",
      "Number of hours for Week4: 30\n",
      "Need counselling as your total logged hours is :  120\n"
     ]
    }
   ],
   "source": [
    "#Employee logged hours for a month\n",
    "minhrsweek=30\n",
    "print(\"Please fill your timesheet in hours for this month\")\n",
    "p_week1=int(input(\"Number of hours for Week1: \"))\n",
    "p_week2=int(input(\"Number of hours for Week2: \"))\n",
    "p_week3=int(input(\"Number of hours for Week3: \"))\n",
    "p_week4=int(input(\"Number of hours for Week4: \"))\n",
    "\n",
    "p_ttl_hrs=p_week1+p_week2+p_week3+p_week4\n",
    "if p_ttl_hrs >= 160:\n",
    "    print(\"Great, you will be rewarded for your work\")\n",
    "elif (p_week1 or p_week2 or p_week3 or p_week4) <= minhrsweek:\n",
    "    print(\"Need counselling as your total logged hours is : \", p_ttl_hrs)\n",
    "else:\n",
    "    print(\"All good\")"
   ]
  },
  {
   "cell_type": "code",
   "execution_count": 53,
   "metadata": {},
   "outputs": [
    {
     "name": "stdout",
     "output_type": "stream",
     "text": [
      "Please enter your login time: 925\n",
      "Your login is not considered\n"
     ]
    }
   ],
   "source": [
    "#Based on login time\n",
    "mintime=\"929\"\n",
    "maxtime=\"941\"\n",
    "logintime=input(\"Please enter your login time: \")\n",
    "if logintime>mintime and logintime<maxtime:\n",
    "    print(\"Your Login is valid\")\n",
    "else:\n",
    "    print(\"Your login is not considered\")"
   ]
  },
  {
   "cell_type": "code",
   "execution_count": 27,
   "metadata": {},
   "outputs": [
    {
     "name": "stdout",
     "output_type": "stream",
     "text": [
      "Start your game: a\n",
      "A is pressed\n",
      "Continue the game: c\n",
      "C is pressed. Don't use clutch in high pickup\n"
     ]
    }
   ],
   "source": [
    "#Car Speed Alert\n",
    "game=['a','b','c']\n",
    "x=input('Start your game: ')\n",
    "\n",
    "if x.lower() in game:\n",
    "    print(x.upper(), \"is pressed\")\n",
    "else:\n",
    "    print(\"Invalid input\")\n",
    "    \n",
    "y=input('Continue the game: ')\n",
    "\n",
    "if y.upper()=='A' and x.upper()=='A':\n",
    "    print('A already pressed')\n",
    "elif y.upper()=='C' and x.upper()=='A':\n",
    "    print(y.upper(), \"is pressed. Don't use clutch in high pickup\")\n",
    "elif y.upper()=='B':\n",
    "    print(y.upper(), \"is pressed. Don't use clutch or accelerator\")\n",
    "\n",
    "    "
   ]
  },
  {
   "cell_type": "code",
   "execution_count": null,
   "metadata": {},
   "outputs": [],
   "source": []
  },
  {
   "cell_type": "code",
   "execution_count": null,
   "metadata": {},
   "outputs": [],
   "source": []
  }
 ],
 "metadata": {
  "kernelspec": {
   "display_name": "Python 3",
   "language": "python",
   "name": "python3"
  },
  "language_info": {
   "codemirror_mode": {
    "name": "ipython",
    "version": 3
   },
   "file_extension": ".py",
   "mimetype": "text/x-python",
   "name": "python",
   "nbconvert_exporter": "python",
   "pygments_lexer": "ipython3",
   "version": "3.8.3"
  }
 },
 "nbformat": 4,
 "nbformat_minor": 4
}

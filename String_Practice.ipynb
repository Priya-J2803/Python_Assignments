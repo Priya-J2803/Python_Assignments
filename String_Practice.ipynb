{
 "cells": [
  {
   "cell_type": "code",
   "execution_count": 6,
   "metadata": {},
   "outputs": [
    {
     "name": "stdout",
     "output_type": "stream",
     "text": [
      "My name is Priya. I'm learning Python.\n",
      " I live in New Jersey, USA.\n",
      " My area Pincode is 08536\n"
     ]
    }
   ],
   "source": [
    "#Practicing String concepts\n",
    "#Used new line character to get data in new line\n",
    "AboutMe=\"My name is Priya. I'm learning Python.\\n I live in New Jersey, USA.\\n My area Pincode is 08536\"\n",
    "print(AboutMe)"
   ]
  },
  {
   "cell_type": "code",
   "execution_count": 7,
   "metadata": {},
   "outputs": [
    {
     "name": "stdout",
     "output_type": "stream",
     "text": [
      "True\n"
     ]
    }
   ],
   "source": [
    "#Searching for a string\n",
    "find='Priya' in AboutMe\n",
    "print(find)"
   ]
  },
  {
   "cell_type": "code",
   "execution_count": 8,
   "metadata": {},
   "outputs": [
    {
     "name": "stdout",
     "output_type": "stream",
     "text": [
      "False\n"
     ]
    }
   ],
   "source": [
    "#Case sensitive check\n",
    "find='priya' in AboutMe\n",
    "print(find)"
   ]
  },
  {
   "cell_type": "code",
   "execution_count": 11,
   "metadata": {},
   "outputs": [
    {
     "name": "stdout",
     "output_type": "stream",
     "text": [
      "MY NAME IS PRIYA. I'M LEARNING PYTHON.\n",
      " I LIVE IN NEW JERSEY, USA.\n",
      " MY AREA PINCODE IS 08536\n"
     ]
    }
   ],
   "source": [
    "#Case conversion\n",
    "print(AboutMe.upper())"
   ]
  },
  {
   "cell_type": "code",
   "execution_count": 17,
   "metadata": {},
   "outputs": [
    {
     "name": "stdout",
     "output_type": "stream",
     "text": [
      "PRIYA\n"
     ]
    }
   ],
   "source": [
    "#Slicing and convert the case\n",
    "name=AboutMe[11:16:1]\n",
    "print(name.upper())"
   ]
  },
  {
   "cell_type": "code",
   "execution_count": 19,
   "metadata": {},
   "outputs": [
    {
     "name": "stdout",
     "output_type": "stream",
     "text": [
      "My name is Priya. I'm learning Python.\n",
      " I live in NJ, United States of America.\n",
      " My area Pincode is 08536\n"
     ]
    }
   ],
   "source": [
    "#using replace\n",
    "print(AboutMe.replace('New Jersey, USA','NJ, United States of America'))\n"
   ]
  },
  {
   "cell_type": "code",
   "execution_count": 20,
   "metadata": {},
   "outputs": [
    {
     "data": {
      "text/plain": [
       "\"63580 si edocniP aera yM \\n.ASU ,yesreJ weN ni evil I \\n.nohtyP gninrael m'I .ayirP si eman yM\""
      ]
     },
     "execution_count": 20,
     "metadata": {},
     "output_type": "execute_result"
    }
   ],
   "source": [
    "# Display string in reverse way\n",
    "AboutMe[::-1]"
   ]
  },
  {
   "cell_type": "code",
   "execution_count": 32,
   "metadata": {},
   "outputs": [
    {
     "name": "stdout",
     "output_type": "stream",
     "text": [
      "08536\n"
     ]
    }
   ],
   "source": [
    "#slice string from the last\n",
    "pin=AboutMe[-5::]\n",
    "print(pin)"
   ]
  },
  {
   "cell_type": "code",
   "execution_count": 36,
   "metadata": {},
   "outputs": [
    {
     "name": "stdout",
     "output_type": "stream",
     "text": [
      "Jan\n",
      "Feb\n",
      "Mar\n"
     ]
    }
   ],
   "source": [
    "#Assigning multivalues to multiple variables at a time\n",
    "m1,m2,m3='Jan','Feb','Mar'\n",
    "print(m1)\n",
    "print(m2)\n",
    "print(m3)"
   ]
  },
  {
   "cell_type": "code",
   "execution_count": 44,
   "metadata": {},
   "outputs": [
    {
     "name": "stdout",
     "output_type": "stream",
     "text": [
      "Jan and Feb and Mar\n"
     ]
    }
   ],
   "source": [
    "#String Concatenation\n",
    "Q1=m1+' and ' +m2+' and ' +m3\n",
    "print(Q1)"
   ]
  },
  {
   "cell_type": "code",
   "execution_count": 47,
   "metadata": {},
   "outputs": [
    {
     "name": "stdout",
     "output_type": "stream",
     "text": [
      "['Jan', 'and', 'Feb', 'and', 'Mar']\n"
     ]
    }
   ],
   "source": [
    "#Using split method, by default its comma seperated split\n",
    "print(Q1.split())"
   ]
  },
  {
   "cell_type": "code",
   "execution_count": 50,
   "metadata": {},
   "outputs": [
    {
     "name": "stdout",
     "output_type": "stream",
     "text": [
      "['Jan ', ' Feb ', ' Mar']\n"
     ]
    }
   ],
   "source": [
    "#split method also replaces a string into comma\n",
    "txt=Q1.split(\"and\")\n",
    "print(txt)"
   ]
  },
  {
   "cell_type": "code",
   "execution_count": null,
   "metadata": {},
   "outputs": [],
   "source": []
  }
 ],
 "metadata": {
  "kernelspec": {
   "display_name": "Python 3",
   "language": "python",
   "name": "python3"
  },
  "language_info": {
   "codemirror_mode": {
    "name": "ipython",
    "version": 3
   },
   "file_extension": ".py",
   "mimetype": "text/x-python",
   "name": "python",
   "nbconvert_exporter": "python",
   "pygments_lexer": "ipython3",
   "version": "3.8.3"
  }
 },
 "nbformat": 4,
 "nbformat_minor": 4
}

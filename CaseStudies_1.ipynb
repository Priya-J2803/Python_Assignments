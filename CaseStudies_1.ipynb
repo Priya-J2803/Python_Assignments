{
 "cells": [
  {
   "cell_type": "code",
   "execution_count": 12,
   "metadata": {},
   "outputs": [
    {
     "name": "stdout",
     "output_type": "stream",
     "text": [
      "Please fill your timesheet in hours for this month\n",
      "Number of hours for Week1: 40\n",
      "Number of hours for Week2: 40\n",
      "Number of hours for Week3: 40\n",
      "Number of hours for Week4: 40\n",
      "Great, you will be rewarded for your work\n"
     ]
    }
   ],
   "source": [
    "#Employee logged hours for a month\n",
    "minhrsweek=30\n",
    "print(\"Please fill your timesheet in hours for this month\")\n",
    "p_week1=int(input(\"Number of hours for Week1: \"))\n",
    "p_week2=int(input(\"Number of hours for Week2: \"))\n",
    "p_week3=int(input(\"Number of hours for Week3: \"))\n",
    "p_week4=int(input(\"Number of hours for Week4: \"))\n",
    "\n",
    "p_ttl_hrs=p_week1+p_week2+p_week3+p_week4\n",
    "if p_ttl_hrs >= 160:\n",
    "    print(\"Great, you will be rewarded for your work\")\n",
    "elif (p_week1 or p_week2 or p_week3 or p_week4) <= minhrsweek:\n",
    "    print(\"Need counselling as your total logged hours is : \", p_ttl_hrs)\n",
    "else:\n",
    "    print(\"All good\")"
   ]
  },
  {
   "cell_type": "code",
   "execution_count": 17,
   "metadata": {},
   "outputs": [
    {
     "name": "stdout",
     "output_type": "stream",
     "text": [
      "Please enter your login time: 939\n",
      "Your Login is valid\n"
     ]
    }
   ],
   "source": [
    "#Based on login time\n",
    "mintime=\"929\"\n",
    "maxtime=\"941\"\n",
    "logintime=input(\"Please enter your login time: \")\n",
    "if logintime>mintime and logintime<maxtime:\n",
    "    print(\"Your Login is valid\")\n",
    "else:\n",
    "    print(\"Your login is not considered\")"
   ]
  },
  {
   "cell_type": "code",
   "execution_count": 49,
   "metadata": {},
   "outputs": [
    {
     "name": "stdout",
     "output_type": "stream",
     "text": [
      "Start your game: A\n",
      "A is pressed\n",
      "Continue the game: B\n",
      "B is pressed. Don't use clutch or accelerator\n"
     ]
    }
   ],
   "source": [
    "#Car Speed Alert\n",
    "game=['A','B','C']\n",
    "#speed=120\n",
    "a=input('Start your game: ')\n",
    "#for k in game:\n",
    " #   print(k)\n",
    "if a in game:\n",
    "    print(a, \"is pressed\")\n",
    "else:\n",
    "    print(\"Invalid input\")\n",
    "b=input('Continue the game: ')\n",
    "if b=='A' and a=='A':\n",
    "    print('A already pressed')\n",
    "elif b=='C' and a=='A':\n",
    "    print(c, \"is pressed. Don't use clutch in high pickup\")\n",
    "elif b=='B':\n",
    "    print(b, \"is pressed. Don't use clutch or accelerator\")\n",
    "\n",
    "    "
   ]
  },
  {
   "cell_type": "code",
   "execution_count": null,
   "metadata": {},
   "outputs": [],
   "source": []
  }
 ],
 "metadata": {
  "kernelspec": {
   "display_name": "Python 3",
   "language": "python",
   "name": "python3"
  },
  "language_info": {
   "codemirror_mode": {
    "name": "ipython",
    "version": 3
   },
   "file_extension": ".py",
   "mimetype": "text/x-python",
   "name": "python",
   "nbconvert_exporter": "python",
   "pygments_lexer": "ipython3",
   "version": "3.8.3"
  }
 },
 "nbformat": 4,
 "nbformat_minor": 4
}
